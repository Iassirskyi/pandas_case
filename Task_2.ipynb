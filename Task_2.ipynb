{
 "cells": [
  {
   "cell_type": "markdown",
   "id": "f798d89a",
   "metadata": {},
   "source": [
    "### Task\n",
    "\n",
    "#### С сайта https://www.renewable-ei.org/en/statistics/electricity/#demand выкачать информацию по генерации и ценам на РСВ (Рынок на Сутки Вперед; цены РСВ - колонка JEPX System price) по годам.\n",
    "#### На сайте http://www.jepx.org/english/market/index.html выкачать информацию по ценам РСВ с колонки Spot Market Indices. В выкачанном файле проверить сходится ли почасовые цены РСВ с колонки «DA-24(VkWh)» с информацией с сайта https://www.renewable-ei.org/en/statistics/electricity/#demand (в случае ошибки – исправить).\n",
    "#### В конце должен быть готовый скрипт по сбору информации с выше перечисленных ресурсов. На основе выкачанной информации сделать графики почасовой генерации и цен на РСВ (Matplotlib or Seaborn)."
   ]
  },
  {
   "cell_type": "code",
   "execution_count": null,
   "id": "e66f18c6",
   "metadata": {},
   "outputs": [],
   "source": []
  },
  {
   "cell_type": "code",
   "execution_count": 1,
   "id": "e565c3b6",
   "metadata": {},
   "outputs": [],
   "source": [
    "import pandas as pd\n",
    "import numpy as np\n",
    "import matplotlib.pyplot as plt"
   ]
  },
  {
   "cell_type": "code",
   "execution_count": 2,
   "id": "f391e819",
   "metadata": {},
   "outputs": [],
   "source": [
    "# from https://www.renewable-ei.org/en/statistics/electricity/#demand"
   ]
  },
  {
   "cell_type": "code",
   "execution_count": 3,
   "id": "adc7327e",
   "metadata": {},
   "outputs": [],
   "source": [
    "data_from_renewable = pd.read_csv('files/download.csv')"
   ]
  },
  {
   "cell_type": "code",
   "execution_count": 4,
   "id": "f7f57ae1",
   "metadata": {},
   "outputs": [],
   "source": [
    "# from http://www.jepx.org/english/market/index.html"
   ]
  },
  {
   "cell_type": "code",
   "execution_count": 5,
   "id": "abf27a50",
   "metadata": {},
   "outputs": [],
   "source": [
    "data_from_jepx_2019 = pd.read_csv('files/index_2019.csv', encoding='ISO-8859-1')"
   ]
  },
  {
   "cell_type": "code",
   "execution_count": 6,
   "id": "9ed6d7f5",
   "metadata": {},
   "outputs": [],
   "source": [
    "data_from_jepx_2020 = pd.read_csv('files/index_2020.csv', encoding='ISO-8859-1')"
   ]
  },
  {
   "cell_type": "markdown",
   "id": "57317e89",
   "metadata": {},
   "source": [
    "## Concat tables from jepx"
   ]
  },
  {
   "cell_type": "code",
   "execution_count": 7,
   "id": "4d9bb537",
   "metadata": {},
   "outputs": [],
   "source": [
    "concat_table = pd.concat([data_from_jepx_2019, data_from_jepx_2020], axis=0)\n",
    "concat_table.to_csv('files/index_2019_2020.csv')\n",
    "data_from_jpex = pd.read_csv('files/index_2019_2020.csv')"
   ]
  },
  {
   "cell_type": "code",
   "execution_count": 43,
   "id": "78117456",
   "metadata": {},
   "outputs": [
    {
     "data": {
      "text/html": [
       "<div>\n",
       "<style scoped>\n",
       "    .dataframe tbody tr th:only-of-type {\n",
       "        vertical-align: middle;\n",
       "    }\n",
       "\n",
       "    .dataframe tbody tr th {\n",
       "        vertical-align: top;\n",
       "    }\n",
       "\n",
       "    .dataframe thead th {\n",
       "        text-align: right;\n",
       "    }\n",
       "</style>\n",
       "<table border=\"1\" class=\"dataframe\">\n",
       "  <thead>\n",
       "    <tr style=\"text-align: right;\">\n",
       "      <th></th>\n",
       "      <th>Nú</th>\n",
       "      <th>DA-24(\\/kWh)</th>\n",
       "      <th>DA-DT(\\/kWh)</th>\n",
       "      <th>DA-PT(\\/kWh)</th>\n",
       "      <th>TTV(kWh)</th>\n",
       "    </tr>\n",
       "  </thead>\n",
       "  <tbody>\n",
       "    <tr>\n",
       "      <th>0</th>\n",
       "      <td>2019/04/01</td>\n",
       "      <td>7.81</td>\n",
       "      <td>8.10</td>\n",
       "      <td>6.31</td>\n",
       "      <td>699892700</td>\n",
       "    </tr>\n",
       "    <tr>\n",
       "      <th>1</th>\n",
       "      <td>2019/04/02</td>\n",
       "      <td>7.79</td>\n",
       "      <td>8.08</td>\n",
       "      <td>6.30</td>\n",
       "      <td>726801550</td>\n",
       "    </tr>\n",
       "    <tr>\n",
       "      <th>2</th>\n",
       "      <td>2019/04/03</td>\n",
       "      <td>8.35</td>\n",
       "      <td>8.39</td>\n",
       "      <td>6.19</td>\n",
       "      <td>723656000</td>\n",
       "    </tr>\n",
       "    <tr>\n",
       "      <th>3</th>\n",
       "      <td>2019/04/04</td>\n",
       "      <td>7.73</td>\n",
       "      <td>7.62</td>\n",
       "      <td>5.91</td>\n",
       "      <td>730807000</td>\n",
       "    </tr>\n",
       "    <tr>\n",
       "      <th>4</th>\n",
       "      <td>2019/04/05</td>\n",
       "      <td>6.86</td>\n",
       "      <td>6.99</td>\n",
       "      <td>6.14</td>\n",
       "      <td>707244250</td>\n",
       "    </tr>\n",
       "    <tr>\n",
       "      <th>...</th>\n",
       "      <td>...</td>\n",
       "      <td>...</td>\n",
       "      <td>...</td>\n",
       "      <td>...</td>\n",
       "      <td>...</td>\n",
       "    </tr>\n",
       "    <tr>\n",
       "      <th>360</th>\n",
       "      <td>2021/03/27</td>\n",
       "      <td>4.38</td>\n",
       "      <td>3.61</td>\n",
       "      <td>2.69</td>\n",
       "      <td>717804950</td>\n",
       "    </tr>\n",
       "    <tr>\n",
       "      <th>361</th>\n",
       "      <td>2021/03/28</td>\n",
       "      <td>5.23</td>\n",
       "      <td>5.29</td>\n",
       "      <td>5.00</td>\n",
       "      <td>735331100</td>\n",
       "    </tr>\n",
       "    <tr>\n",
       "      <th>362</th>\n",
       "      <td>2021/03/29</td>\n",
       "      <td>4.50</td>\n",
       "      <td>4.01</td>\n",
       "      <td>2.54</td>\n",
       "      <td>781961750</td>\n",
       "    </tr>\n",
       "    <tr>\n",
       "      <th>363</th>\n",
       "      <td>2021/03/30</td>\n",
       "      <td>5.25</td>\n",
       "      <td>5.22</td>\n",
       "      <td>4.93</td>\n",
       "      <td>924321800</td>\n",
       "    </tr>\n",
       "    <tr>\n",
       "      <th>364</th>\n",
       "      <td>2021/03/31</td>\n",
       "      <td>4.12</td>\n",
       "      <td>3.33</td>\n",
       "      <td>1.37</td>\n",
       "      <td>803264300</td>\n",
       "    </tr>\n",
       "  </tbody>\n",
       "</table>\n",
       "<p>731 rows × 5 columns</p>\n",
       "</div>"
      ],
      "text/plain": [
       "         Nú  DA-24(\\/kWh)  DA-DT(\\/kWh)  DA-PT(\\/kWh)   TTV(kWh)\n",
       "0    2019/04/01          7.81          8.10          6.31  699892700\n",
       "1    2019/04/02          7.79          8.08          6.30  726801550\n",
       "2    2019/04/03          8.35          8.39          6.19  723656000\n",
       "3    2019/04/04          7.73          7.62          5.91  730807000\n",
       "4    2019/04/05          6.86          6.99          6.14  707244250\n",
       "..          ...           ...           ...           ...        ...\n",
       "360  2021/03/27          4.38          3.61          2.69  717804950\n",
       "361  2021/03/28          5.23          5.29          5.00  735331100\n",
       "362  2021/03/29          4.50          4.01          2.54  781961750\n",
       "363  2021/03/30          5.25          5.22          4.93  924321800\n",
       "364  2021/03/31          4.12          3.33          1.37  803264300\n",
       "\n",
       "[731 rows x 5 columns]"
      ]
     },
     "execution_count": 43,
     "metadata": {},
     "output_type": "execute_result"
    }
   ],
   "source": [
    "concat_table"
   ]
  },
  {
   "cell_type": "markdown",
   "id": "496919e6",
   "metadata": {},
   "source": [
    "## Clean data from renewable"
   ]
  },
  {
   "cell_type": "code",
   "execution_count": 8,
   "id": "d6a9d7ac",
   "metadata": {},
   "outputs": [],
   "source": [
    "old_columns = data_from_renewable.columns.tolist()"
   ]
  },
  {
   "cell_type": "code",
   "execution_count": 9,
   "id": "37311367",
   "metadata": {},
   "outputs": [],
   "source": [
    "new_columns = data_from_renewable.iloc[0].tolist()"
   ]
  },
  {
   "cell_type": "code",
   "execution_count": 10,
   "id": "855af2b5",
   "metadata": {},
   "outputs": [],
   "source": [
    "new_columns[0] = 'Day'\n",
    "new_columns[1] = 'Time'\n",
    "new_columns[-1] = 'JEPX_System_Price'"
   ]
  },
  {
   "cell_type": "code",
   "execution_count": 11,
   "id": "7db9b616",
   "metadata": {},
   "outputs": [],
   "source": [
    "df = data_from_renewable.rename(columns=dict(zip(old_columns, new_columns)))"
   ]
  },
  {
   "cell_type": "code",
   "execution_count": 12,
   "id": "8516a4a6",
   "metadata": {},
   "outputs": [],
   "source": [
    "df = df.drop(index=0, axis=0)"
   ]
  },
  {
   "cell_type": "code",
   "execution_count": 13,
   "id": "fe307bff",
   "metadata": {},
   "outputs": [],
   "source": [
    "df = df.astype({'Day': 'datetime64[ns]', 'JEPX_System_Price': 'float'})"
   ]
  },
  {
   "cell_type": "code",
   "execution_count": 14,
   "id": "81aaf9a8",
   "metadata": {},
   "outputs": [],
   "source": [
    "df.Time = pd.to_timedelta(df.Time.astype(str) + ':00')"
   ]
  },
  {
   "cell_type": "code",
   "execution_count": 15,
   "id": "35fe7a3d",
   "metadata": {},
   "outputs": [],
   "source": [
    "df.Day = df.Day + df.Time"
   ]
  },
  {
   "cell_type": "code",
   "execution_count": 16,
   "id": "b59df72c",
   "metadata": {},
   "outputs": [],
   "source": [
    "df = df.drop('Time', axis=1)"
   ]
  },
  {
   "cell_type": "code",
   "execution_count": 17,
   "id": "7fbd2b68",
   "metadata": {},
   "outputs": [],
   "source": [
    "df.index = df.Day"
   ]
  },
  {
   "cell_type": "code",
   "execution_count": 18,
   "id": "ef30c3cb",
   "metadata": {},
   "outputs": [],
   "source": [
    "df = df.drop('Day', axis=1)"
   ]
  },
  {
   "cell_type": "code",
   "execution_count": 19,
   "id": "9a642a5e",
   "metadata": {},
   "outputs": [],
   "source": [
    "int_type = {}\n",
    "for column in df.columns.tolist()[0:-1]:\n",
    "    int_type[column] = 'int'\n"
   ]
  },
  {
   "cell_type": "code",
   "execution_count": 20,
   "id": "387e139a",
   "metadata": {},
   "outputs": [],
   "source": [
    "df = df.astype(int_type)"
   ]
  },
  {
   "cell_type": "code",
   "execution_count": 21,
   "id": "d406b7e3",
   "metadata": {},
   "outputs": [
    {
     "data": {
      "text/plain": [
       "Nuclear                     int64\n",
       "Thermal                     int64\n",
       "Hydropower                  int64\n",
       "Geothermal                  int64\n",
       "Biomass                     int64\n",
       "SolarPV                     int64\n",
       "Wind                        int64\n",
       "Pumped hydro(pump up)       int64\n",
       "Pumped hydro(generate)      int64\n",
       "Import                      int64\n",
       "Export                      int64\n",
       "SolarPV(curtailment)        int64\n",
       "Wind(curtailment)           int64\n",
       "Demand                      int64\n",
       "JEPX_System_Price         float64\n",
       "dtype: object"
      ]
     },
     "execution_count": 21,
     "metadata": {},
     "output_type": "execute_result"
    }
   ],
   "source": [
    "df.dtypes"
   ]
  },
  {
   "cell_type": "code",
   "execution_count": 22,
   "id": "7e940b7b",
   "metadata": {},
   "outputs": [],
   "source": [
    "data_from_renewable = df"
   ]
  },
  {
   "cell_type": "code",
   "execution_count": 23,
   "id": "4a1552d4",
   "metadata": {},
   "outputs": [],
   "source": [
    "data_price_from_renewable = df.resample('D').JEPX_System_Price.mean().round(2)"
   ]
  },
  {
   "cell_type": "code",
   "execution_count": 24,
   "id": "7bf7f8c4",
   "metadata": {},
   "outputs": [
    {
     "data": {
      "text/plain": [
       "Day\n",
       "2019-12-31     6.39\n",
       "2020-01-01     5.83\n",
       "2020-01-02     6.06\n",
       "2020-01-03     6.13\n",
       "2020-01-04     6.49\n",
       "              ...  \n",
       "2020-12-27    26.65\n",
       "2020-12-28    29.92\n",
       "2020-12-29    20.94\n",
       "2020-12-30    32.56\n",
       "2020-12-31    29.77\n",
       "Freq: D, Name: JEPX_System_Price, Length: 367, dtype: float64"
      ]
     },
     "execution_count": 24,
     "metadata": {},
     "output_type": "execute_result"
    }
   ],
   "source": [
    "data_price_from_renewable"
   ]
  },
  {
   "cell_type": "markdown",
   "id": "9bf1e0ad",
   "metadata": {},
   "source": [
    "## Clean data from jepx"
   ]
  },
  {
   "cell_type": "code",
   "execution_count": 25,
   "id": "723dc49c",
   "metadata": {},
   "outputs": [],
   "source": [
    "old_columns = data_from_jpex.columns.tolist()"
   ]
  },
  {
   "cell_type": "code",
   "execution_count": 26,
   "id": "ece64fe9",
   "metadata": {},
   "outputs": [
    {
     "data": {
      "text/plain": [
       "['Unnamed: 0',\n",
       " '\\x94N\\x8c\\x8e\\x93ú',\n",
       " 'DA-24(\\\\/kWh)',\n",
       " 'DA-DT(\\\\/kWh)',\n",
       " 'DA-PT(\\\\/kWh)',\n",
       " 'TTV(kWh)']"
      ]
     },
     "execution_count": 26,
     "metadata": {},
     "output_type": "execute_result"
    }
   ],
   "source": [
    "old_columns"
   ]
  },
  {
   "cell_type": "code",
   "execution_count": 27,
   "id": "4bf861a8",
   "metadata": {},
   "outputs": [],
   "source": [
    "df = data_from_jpex.rename(columns={'\\x94N\\x8c\\x8e\\x93ú': 'Day', 'DA-24(\\/kWh)': 'DA_24'})"
   ]
  },
  {
   "cell_type": "code",
   "execution_count": 28,
   "id": "c0f5741a",
   "metadata": {},
   "outputs": [],
   "source": [
    "df = df.astype({'Day': 'datetime64[ns]', 'DA_24': 'float'})"
   ]
  },
  {
   "cell_type": "code",
   "execution_count": 29,
   "id": "dcb72484",
   "metadata": {},
   "outputs": [],
   "source": [
    "df.index = df.Day"
   ]
  },
  {
   "cell_type": "code",
   "execution_count": 30,
   "id": "440c26b5",
   "metadata": {},
   "outputs": [],
   "source": [
    "df = df.drop('Day', axis=1)"
   ]
  },
  {
   "cell_type": "code",
   "execution_count": 31,
   "id": "c5e1d41d",
   "metadata": {},
   "outputs": [],
   "source": [
    "data_price_from_jepx = df"
   ]
  },
  {
   "cell_type": "code",
   "execution_count": 32,
   "id": "57af5ec2",
   "metadata": {},
   "outputs": [
    {
     "data": {
      "text/html": [
       "<div>\n",
       "<style scoped>\n",
       "    .dataframe tbody tr th:only-of-type {\n",
       "        vertical-align: middle;\n",
       "    }\n",
       "\n",
       "    .dataframe tbody tr th {\n",
       "        vertical-align: top;\n",
       "    }\n",
       "\n",
       "    .dataframe thead th {\n",
       "        text-align: right;\n",
       "    }\n",
       "</style>\n",
       "<table border=\"1\" class=\"dataframe\">\n",
       "  <thead>\n",
       "    <tr style=\"text-align: right;\">\n",
       "      <th></th>\n",
       "      <th>Unnamed: 0</th>\n",
       "      <th>DA_24</th>\n",
       "      <th>DA-DT(\\/kWh)</th>\n",
       "      <th>DA-PT(\\/kWh)</th>\n",
       "      <th>TTV(kWh)</th>\n",
       "    </tr>\n",
       "    <tr>\n",
       "      <th>Day</th>\n",
       "      <th></th>\n",
       "      <th></th>\n",
       "      <th></th>\n",
       "      <th></th>\n",
       "      <th></th>\n",
       "    </tr>\n",
       "  </thead>\n",
       "  <tbody>\n",
       "    <tr>\n",
       "      <th>2019-04-01</th>\n",
       "      <td>0</td>\n",
       "      <td>7.81</td>\n",
       "      <td>8.10</td>\n",
       "      <td>6.31</td>\n",
       "      <td>699892700</td>\n",
       "    </tr>\n",
       "    <tr>\n",
       "      <th>2019-04-02</th>\n",
       "      <td>1</td>\n",
       "      <td>7.79</td>\n",
       "      <td>8.08</td>\n",
       "      <td>6.30</td>\n",
       "      <td>726801550</td>\n",
       "    </tr>\n",
       "    <tr>\n",
       "      <th>2019-04-03</th>\n",
       "      <td>2</td>\n",
       "      <td>8.35</td>\n",
       "      <td>8.39</td>\n",
       "      <td>6.19</td>\n",
       "      <td>723656000</td>\n",
       "    </tr>\n",
       "    <tr>\n",
       "      <th>2019-04-04</th>\n",
       "      <td>3</td>\n",
       "      <td>7.73</td>\n",
       "      <td>7.62</td>\n",
       "      <td>5.91</td>\n",
       "      <td>730807000</td>\n",
       "    </tr>\n",
       "    <tr>\n",
       "      <th>2019-04-05</th>\n",
       "      <td>4</td>\n",
       "      <td>6.86</td>\n",
       "      <td>6.99</td>\n",
       "      <td>6.14</td>\n",
       "      <td>707244250</td>\n",
       "    </tr>\n",
       "    <tr>\n",
       "      <th>...</th>\n",
       "      <td>...</td>\n",
       "      <td>...</td>\n",
       "      <td>...</td>\n",
       "      <td>...</td>\n",
       "      <td>...</td>\n",
       "    </tr>\n",
       "    <tr>\n",
       "      <th>2021-03-27</th>\n",
       "      <td>360</td>\n",
       "      <td>4.38</td>\n",
       "      <td>3.61</td>\n",
       "      <td>2.69</td>\n",
       "      <td>717804950</td>\n",
       "    </tr>\n",
       "    <tr>\n",
       "      <th>2021-03-28</th>\n",
       "      <td>361</td>\n",
       "      <td>5.23</td>\n",
       "      <td>5.29</td>\n",
       "      <td>5.00</td>\n",
       "      <td>735331100</td>\n",
       "    </tr>\n",
       "    <tr>\n",
       "      <th>2021-03-29</th>\n",
       "      <td>362</td>\n",
       "      <td>4.50</td>\n",
       "      <td>4.01</td>\n",
       "      <td>2.54</td>\n",
       "      <td>781961750</td>\n",
       "    </tr>\n",
       "    <tr>\n",
       "      <th>2021-03-30</th>\n",
       "      <td>363</td>\n",
       "      <td>5.25</td>\n",
       "      <td>5.22</td>\n",
       "      <td>4.93</td>\n",
       "      <td>924321800</td>\n",
       "    </tr>\n",
       "    <tr>\n",
       "      <th>2021-03-31</th>\n",
       "      <td>364</td>\n",
       "      <td>4.12</td>\n",
       "      <td>3.33</td>\n",
       "      <td>1.37</td>\n",
       "      <td>803264300</td>\n",
       "    </tr>\n",
       "  </tbody>\n",
       "</table>\n",
       "<p>731 rows × 5 columns</p>\n",
       "</div>"
      ],
      "text/plain": [
       "            Unnamed: 0  DA_24  DA-DT(\\/kWh)  DA-PT(\\/kWh)   TTV(kWh)\n",
       "Day                                                                 \n",
       "2019-04-01           0   7.81          8.10          6.31  699892700\n",
       "2019-04-02           1   7.79          8.08          6.30  726801550\n",
       "2019-04-03           2   8.35          8.39          6.19  723656000\n",
       "2019-04-04           3   7.73          7.62          5.91  730807000\n",
       "2019-04-05           4   6.86          6.99          6.14  707244250\n",
       "...                ...    ...           ...           ...        ...\n",
       "2021-03-27         360   4.38          3.61          2.69  717804950\n",
       "2021-03-28         361   5.23          5.29          5.00  735331100\n",
       "2021-03-29         362   4.50          4.01          2.54  781961750\n",
       "2021-03-30         363   5.25          5.22          4.93  924321800\n",
       "2021-03-31         364   4.12          3.33          1.37  803264300\n",
       "\n",
       "[731 rows x 5 columns]"
      ]
     },
     "execution_count": 32,
     "metadata": {},
     "output_type": "execute_result"
    }
   ],
   "source": [
    "data_price_from_jepx"
   ]
  },
  {
   "cell_type": "markdown",
   "id": "6cc0b27c",
   "metadata": {},
   "source": [
    "## Compare 'data_price_from_renewable' with 'data_price_from_jepx'"
   ]
  },
  {
   "cell_type": "code",
   "execution_count": 33,
   "id": "5b4bb060",
   "metadata": {},
   "outputs": [],
   "source": [
    "for index in data_price_from_jepx.index:\n",
    "    if not index in data_price_from_renewable.index:\n",
    "        data_price_from_jepx = data_price_from_jepx.drop(index, axis=0)"
   ]
  },
  {
   "cell_type": "code",
   "execution_count": 44,
   "id": "faeb15f8",
   "metadata": {},
   "outputs": [
    {
     "data": {
      "text/plain": [
       "DatetimeIndex(['2019-12-31', '2020-01-01', '2020-01-02', '2020-01-03',\n",
       "               '2020-01-04', '2020-01-05', '2020-01-06', '2020-01-07',\n",
       "               '2020-01-08', '2020-01-09',\n",
       "               ...\n",
       "               '2020-12-22', '2020-12-23', '2020-12-24', '2020-12-25',\n",
       "               '2020-12-26', '2020-12-27', '2020-12-28', '2020-12-29',\n",
       "               '2020-12-30', '2020-12-31'],\n",
       "              dtype='datetime64[ns]', name='Day', length=367, freq=None)"
      ]
     },
     "execution_count": 44,
     "metadata": {},
     "output_type": "execute_result"
    }
   ],
   "source": [
    "data_price_from_jepx.index"
   ]
  },
  {
   "cell_type": "code",
   "execution_count": 35,
   "id": "fbc11880",
   "metadata": {},
   "outputs": [],
   "source": [
    "price_from_jepx = data_price_from_jepx[['DA_24']]"
   ]
  },
  {
   "cell_type": "code",
   "execution_count": 36,
   "id": "f1322698",
   "metadata": {},
   "outputs": [
    {
     "data": {
      "text/html": [
       "<div>\n",
       "<style scoped>\n",
       "    .dataframe tbody tr th:only-of-type {\n",
       "        vertical-align: middle;\n",
       "    }\n",
       "\n",
       "    .dataframe tbody tr th {\n",
       "        vertical-align: top;\n",
       "    }\n",
       "\n",
       "    .dataframe thead th {\n",
       "        text-align: right;\n",
       "    }\n",
       "</style>\n",
       "<table border=\"1\" class=\"dataframe\">\n",
       "  <thead>\n",
       "    <tr style=\"text-align: right;\">\n",
       "      <th></th>\n",
       "      <th>DA_24</th>\n",
       "    </tr>\n",
       "    <tr>\n",
       "      <th>Day</th>\n",
       "      <th></th>\n",
       "    </tr>\n",
       "  </thead>\n",
       "  <tbody>\n",
       "    <tr>\n",
       "      <th>2019-12-31</th>\n",
       "      <td>5.82</td>\n",
       "    </tr>\n",
       "    <tr>\n",
       "      <th>2020-01-01</th>\n",
       "      <td>5.97</td>\n",
       "    </tr>\n",
       "    <tr>\n",
       "      <th>2020-01-02</th>\n",
       "      <td>5.97</td>\n",
       "    </tr>\n",
       "    <tr>\n",
       "      <th>2020-01-03</th>\n",
       "      <td>6.13</td>\n",
       "    </tr>\n",
       "    <tr>\n",
       "      <th>2020-01-04</th>\n",
       "      <td>6.40</td>\n",
       "    </tr>\n",
       "    <tr>\n",
       "      <th>...</th>\n",
       "      <td>...</td>\n",
       "    </tr>\n",
       "    <tr>\n",
       "      <th>2020-12-27</th>\n",
       "      <td>25.84</td>\n",
       "    </tr>\n",
       "    <tr>\n",
       "      <th>2020-12-28</th>\n",
       "      <td>30.82</td>\n",
       "    </tr>\n",
       "    <tr>\n",
       "      <th>2020-12-29</th>\n",
       "      <td>20.17</td>\n",
       "    </tr>\n",
       "    <tr>\n",
       "      <th>2020-12-30</th>\n",
       "      <td>29.38</td>\n",
       "    </tr>\n",
       "    <tr>\n",
       "      <th>2020-12-31</th>\n",
       "      <td>28.69</td>\n",
       "    </tr>\n",
       "  </tbody>\n",
       "</table>\n",
       "<p>367 rows × 1 columns</p>\n",
       "</div>"
      ],
      "text/plain": [
       "            DA_24\n",
       "Day              \n",
       "2019-12-31   5.82\n",
       "2020-01-01   5.97\n",
       "2020-01-02   5.97\n",
       "2020-01-03   6.13\n",
       "2020-01-04   6.40\n",
       "...           ...\n",
       "2020-12-27  25.84\n",
       "2020-12-28  30.82\n",
       "2020-12-29  20.17\n",
       "2020-12-30  29.38\n",
       "2020-12-31  28.69\n",
       "\n",
       "[367 rows x 1 columns]"
      ]
     },
     "execution_count": 36,
     "metadata": {},
     "output_type": "execute_result"
    }
   ],
   "source": [
    "price_from_jepx"
   ]
  },
  {
   "cell_type": "code",
   "execution_count": 42,
   "id": "53b67c23",
   "metadata": {},
   "outputs": [
    {
     "data": {
      "text/plain": [
       "Day\n",
       "2019-12-31     6.39\n",
       "2020-01-01     5.83\n",
       "2020-01-02     6.06\n",
       "2020-01-03     6.13\n",
       "2020-01-04     6.49\n",
       "              ...  \n",
       "2020-12-27    26.65\n",
       "2020-12-28    29.92\n",
       "2020-12-29    20.94\n",
       "2020-12-30    32.56\n",
       "2020-12-31    29.77\n",
       "Freq: D, Name: JEPX_System_Price, Length: 367, dtype: float64"
      ]
     },
     "execution_count": 42,
     "metadata": {},
     "output_type": "execute_result"
    }
   ],
   "source": [
    "data_price_from_renewable"
   ]
  },
  {
   "cell_type": "code",
   "execution_count": 41,
   "id": "d0da2250",
   "metadata": {},
   "outputs": [
    {
     "data": {
      "text/plain": [
       "Day\n",
       "2019-12-31     5.82\n",
       "2020-01-01     5.97\n",
       "2020-01-02     5.97\n",
       "2020-01-03     6.13\n",
       "2020-01-04     6.40\n",
       "              ...  \n",
       "2020-12-27    25.84\n",
       "2020-12-28    30.82\n",
       "2020-12-29    20.17\n",
       "2020-12-30    29.38\n",
       "2020-12-31    28.69\n",
       "Name: DA_24, Length: 367, dtype: float64"
      ]
     },
     "execution_count": 41,
     "metadata": {},
     "output_type": "execute_result"
    }
   ],
   "source": [
    "data_price_from_jepx['DA_24']"
   ]
  },
  {
   "cell_type": "code",
   "execution_count": 37,
   "id": "e5b68967",
   "metadata": {},
   "outputs": [],
   "source": [
    "data_price_from_jepx['match'] = np.where(data_price_from_jepx['DA_24'] == data_price_from_renewable,  \\\n",
    "                                         'True', data_price_from_jepx['DA_24'])"
   ]
  },
  {
   "cell_type": "code",
   "execution_count": 38,
   "id": "38993575",
   "metadata": {},
   "outputs": [
    {
     "data": {
      "text/html": [
       "<div>\n",
       "<style scoped>\n",
       "    .dataframe tbody tr th:only-of-type {\n",
       "        vertical-align: middle;\n",
       "    }\n",
       "\n",
       "    .dataframe tbody tr th {\n",
       "        vertical-align: top;\n",
       "    }\n",
       "\n",
       "    .dataframe thead th {\n",
       "        text-align: right;\n",
       "    }\n",
       "</style>\n",
       "<table border=\"1\" class=\"dataframe\">\n",
       "  <thead>\n",
       "    <tr style=\"text-align: right;\">\n",
       "      <th></th>\n",
       "      <th>Unnamed: 0</th>\n",
       "      <th>DA_24</th>\n",
       "      <th>DA-DT(\\/kWh)</th>\n",
       "      <th>DA-PT(\\/kWh)</th>\n",
       "      <th>TTV(kWh)</th>\n",
       "      <th>match</th>\n",
       "    </tr>\n",
       "    <tr>\n",
       "      <th>Day</th>\n",
       "      <th></th>\n",
       "      <th></th>\n",
       "      <th></th>\n",
       "      <th></th>\n",
       "      <th></th>\n",
       "      <th></th>\n",
       "    </tr>\n",
       "  </thead>\n",
       "  <tbody>\n",
       "    <tr>\n",
       "      <th>2019-12-31</th>\n",
       "      <td>274</td>\n",
       "      <td>5.82</td>\n",
       "      <td>5.92</td>\n",
       "      <td>4.51</td>\n",
       "      <td>728534550</td>\n",
       "      <td>5.82</td>\n",
       "    </tr>\n",
       "    <tr>\n",
       "      <th>2020-01-01</th>\n",
       "      <td>275</td>\n",
       "      <td>5.97</td>\n",
       "      <td>5.63</td>\n",
       "      <td>4.44</td>\n",
       "      <td>719697750</td>\n",
       "      <td>5.97</td>\n",
       "    </tr>\n",
       "    <tr>\n",
       "      <th>2020-01-02</th>\n",
       "      <td>276</td>\n",
       "      <td>5.97</td>\n",
       "      <td>5.87</td>\n",
       "      <td>4.54</td>\n",
       "      <td>715588650</td>\n",
       "      <td>5.97</td>\n",
       "    </tr>\n",
       "    <tr>\n",
       "      <th>2020-01-03</th>\n",
       "      <td>277</td>\n",
       "      <td>6.13</td>\n",
       "      <td>5.99</td>\n",
       "      <td>4.56</td>\n",
       "      <td>724015750</td>\n",
       "      <td>True</td>\n",
       "    </tr>\n",
       "    <tr>\n",
       "      <th>2020-01-04</th>\n",
       "      <td>278</td>\n",
       "      <td>6.40</td>\n",
       "      <td>6.41</td>\n",
       "      <td>4.73</td>\n",
       "      <td>739357900</td>\n",
       "      <td>6.4</td>\n",
       "    </tr>\n",
       "    <tr>\n",
       "      <th>...</th>\n",
       "      <td>...</td>\n",
       "      <td>...</td>\n",
       "      <td>...</td>\n",
       "      <td>...</td>\n",
       "      <td>...</td>\n",
       "      <td>...</td>\n",
       "    </tr>\n",
       "    <tr>\n",
       "      <th>2020-12-27</th>\n",
       "      <td>270</td>\n",
       "      <td>25.84</td>\n",
       "      <td>32.77</td>\n",
       "      <td>11.50</td>\n",
       "      <td>792377050</td>\n",
       "      <td>25.84</td>\n",
       "    </tr>\n",
       "    <tr>\n",
       "      <th>2020-12-28</th>\n",
       "      <td>271</td>\n",
       "      <td>30.82</td>\n",
       "      <td>37.71</td>\n",
       "      <td>19.22</td>\n",
       "      <td>870232050</td>\n",
       "      <td>30.82</td>\n",
       "    </tr>\n",
       "    <tr>\n",
       "      <th>2020-12-29</th>\n",
       "      <td>272</td>\n",
       "      <td>20.17</td>\n",
       "      <td>22.40</td>\n",
       "      <td>8.86</td>\n",
       "      <td>848890350</td>\n",
       "      <td>20.17</td>\n",
       "    </tr>\n",
       "    <tr>\n",
       "      <th>2020-12-30</th>\n",
       "      <td>273</td>\n",
       "      <td>29.38</td>\n",
       "      <td>35.51</td>\n",
       "      <td>14.74</td>\n",
       "      <td>809350900</td>\n",
       "      <td>29.38</td>\n",
       "    </tr>\n",
       "    <tr>\n",
       "      <th>2020-12-31</th>\n",
       "      <td>274</td>\n",
       "      <td>28.69</td>\n",
       "      <td>28.11</td>\n",
       "      <td>13.15</td>\n",
       "      <td>816192800</td>\n",
       "      <td>28.69</td>\n",
       "    </tr>\n",
       "  </tbody>\n",
       "</table>\n",
       "<p>367 rows × 6 columns</p>\n",
       "</div>"
      ],
      "text/plain": [
       "            Unnamed: 0  DA_24  DA-DT(\\/kWh)  DA-PT(\\/kWh)   TTV(kWh)  match\n",
       "Day                                                                        \n",
       "2019-12-31         274   5.82          5.92          4.51  728534550   5.82\n",
       "2020-01-01         275   5.97          5.63          4.44  719697750   5.97\n",
       "2020-01-02         276   5.97          5.87          4.54  715588650   5.97\n",
       "2020-01-03         277   6.13          5.99          4.56  724015750   True\n",
       "2020-01-04         278   6.40          6.41          4.73  739357900    6.4\n",
       "...                ...    ...           ...           ...        ...    ...\n",
       "2020-12-27         270  25.84         32.77         11.50  792377050  25.84\n",
       "2020-12-28         271  30.82         37.71         19.22  870232050  30.82\n",
       "2020-12-29         272  20.17         22.40          8.86  848890350  20.17\n",
       "2020-12-30         273  29.38         35.51         14.74  809350900  29.38\n",
       "2020-12-31         274  28.69         28.11         13.15  816192800  28.69\n",
       "\n",
       "[367 rows x 6 columns]"
      ]
     },
     "execution_count": 38,
     "metadata": {},
     "output_type": "execute_result"
    }
   ],
   "source": [
    "data_price_from_jepx"
   ]
  },
  {
   "cell_type": "code",
   "execution_count": null,
   "id": "3a4fba4e",
   "metadata": {},
   "outputs": [],
   "source": []
  },
  {
   "cell_type": "markdown",
   "id": "28cfc470",
   "metadata": {},
   "source": [
    "### Build Charts"
   ]
  },
  {
   "cell_type": "code",
   "execution_count": 39,
   "id": "45a45430",
   "metadata": {},
   "outputs": [],
   "source": [
    "df = data_from_renewable[['Nuclear', 'Thermal', 'Hydropower', 'Geothermal', 'Biomass', 'SolarPV', 'Wind']]"
   ]
  },
  {
   "cell_type": "code",
   "execution_count": 40,
   "id": "53c4f6c2",
   "metadata": {},
   "outputs": [
    {
     "data": {
      "text/plain": [
       "<AxesSubplot:xlabel='Day'>"
      ]
     },
     "execution_count": 40,
     "metadata": {},
     "output_type": "execute_result"
    },
    {
     "data": {
      "image/png": "[encoded data removed]",
      "text/plain": [
       "<Figure size 1152x720 with 1 Axes>"
      ]
     },
     "metadata": {
      "needs_background": "light"
     },
     "output_type": "display_data"
    }
   ],
   "source": [
    "df.plot(figsize=(16, 10))"
   ]
  },
  {
   "cell_type": "code",
   "execution_count": null,
   "id": "4ef013ee",
   "metadata": {},
   "outputs": [],
   "source": []
  }
 ],
 "metadata": {
  "kernelspec": {
   "display_name": "Python 3 (ipykernel)",
   "language": "python",
   "name": "python3"
  },
  "language_info": {
   "codemirror_mode": {
    "name": "ipython",
    "version": 3
   },
   "file_extension": ".py",
   "mimetype": "text/x-python",
   "name": "python",
   "nbconvert_exporter": "python",
   "pygments_lexer": "ipython3",
   "version": "3.9.7"
  }
 },
 "nbformat": 4,
 "nbformat_minor": 5
}
